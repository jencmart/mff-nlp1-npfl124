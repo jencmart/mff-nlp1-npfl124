{
 "cells": [
  {
   "cell_type": "code",
   "execution_count": 1,
   "metadata": {},
   "outputs": [],
   "source": [
    "import pandas as pd\n",
    "import argparse\n",
    "import seaborn as sns\n",
    "import matplotlib.pyplot as plt\n",
    "import numpy as np"
   ]
  },
  {
   "cell_type": "markdown",
   "metadata": {},
   "source": [
    "# Conditional Entropy H(Y|X) \n",
    "* All results are computed using the 10 repeat average.\n",
    "\n",
    "\n",
    "* Note that `mess_prob=0.0` repesents original (unmodified) dataset...\n",
    "\n",
    "## Character modification\n",
    "* In the table below (and also in the plot) we can see, that modifying the characters leads to a linear decrease of the conditional entropy.\n",
    "\n",
    "* When we modify characters of words, we are creating new words and thus making the vocabulary much larger. \n",
    "\n",
    "\n",
    "* Moreover we destroy the relationship between the words, because for example if in the original text we had \"can of coke\" 100 times, now we will probably end up each time with a different word, thus each combination of words $w_{i-1}, w_i$ will be more and more unique, because each word $w_i$ will start becoming more unique. \n",
    "\n",
    "\n",
    "* This means that $p(w_{i-1} w_{i})$ will go towards $1/|V|$ and $p(w_i | w_{i-1})$ will go to $1$, thus $\\log_2 (p(w_i | w_{i-1})$ will more often be $0$ and the conditional entropy will be lower."
   ]
  },
  {
   "cell_type": "code",
   "execution_count": 2,
   "metadata": {},
   "outputs": [],
   "source": [
    "df = pd.read_csv(\"results/res.csv\").sort_values([\"dataset\", \"experiment\", \"mess_prob\"], ascending = (True, True, True))\n",
    "df['Experiment'] = df['dataset'] + \": \" + df['experiment']\n",
    "df['mess_prob'] = df['mess_prob'].astype('category')"
   ]
  },
  {
   "cell_type": "code",
   "execution_count": 6,
   "metadata": {},
   "outputs": [
    {
     "data": {
      "text/html": [
       "<div>\n",
       "<style scoped>\n",
       "    .dataframe tbody tr th:only-of-type {\n",
       "        vertical-align: middle;\n",
       "    }\n",
       "\n",
       "    .dataframe tbody tr th {\n",
       "        vertical-align: top;\n",
       "    }\n",
       "\n",
       "    .dataframe thead th {\n",
       "        text-align: right;\n",
       "    }\n",
       "</style>\n",
       "<table border=\"1\" class=\"dataframe\">\n",
       "  <thead>\n",
       "    <tr style=\"text-align: right;\">\n",
       "      <th>dataset</th>\n",
       "      <th>cz</th>\n",
       "      <th>en</th>\n",
       "      <th>cz_perplexity</th>\n",
       "      <th>en_perplexity</th>\n",
       "    </tr>\n",
       "    <tr>\n",
       "      <th>mess_prob</th>\n",
       "      <th></th>\n",
       "      <th></th>\n",
       "      <th></th>\n",
       "      <th></th>\n",
       "    </tr>\n",
       "  </thead>\n",
       "  <tbody>\n",
       "    <tr>\n",
       "      <th>0.0</th>\n",
       "      <td>4.747801</td>\n",
       "      <td>5.287398</td>\n",
       "      <td>26.867694</td>\n",
       "      <td>39.053984</td>\n",
       "    </tr>\n",
       "    <tr>\n",
       "      <th>1e-05</th>\n",
       "      <td>4.747718</td>\n",
       "      <td>5.287392</td>\n",
       "      <td>26.866157</td>\n",
       "      <td>39.053815</td>\n",
       "    </tr>\n",
       "    <tr>\n",
       "      <th>0.0001</th>\n",
       "      <td>4.746771</td>\n",
       "      <td>5.287000</td>\n",
       "      <td>26.848525</td>\n",
       "      <td>39.043208</td>\n",
       "    </tr>\n",
       "    <tr>\n",
       "      <th>0.001</th>\n",
       "      <td>4.738600</td>\n",
       "      <td>5.283650</td>\n",
       "      <td>26.696888</td>\n",
       "      <td>38.952674</td>\n",
       "    </tr>\n",
       "    <tr>\n",
       "      <th>0.01</th>\n",
       "      <td>4.659225</td>\n",
       "      <td>5.250462</td>\n",
       "      <td>25.267749</td>\n",
       "      <td>38.066804</td>\n",
       "    </tr>\n",
       "    <tr>\n",
       "      <th>0.05</th>\n",
       "      <td>4.336144</td>\n",
       "      <td>5.057127</td>\n",
       "      <td>20.198049</td>\n",
       "      <td>33.292550</td>\n",
       "    </tr>\n",
       "    <tr>\n",
       "      <th>0.1</th>\n",
       "      <td>4.007994</td>\n",
       "      <td>4.731907</td>\n",
       "      <td>16.088900</td>\n",
       "      <td>26.573320</td>\n",
       "    </tr>\n",
       "  </tbody>\n",
       "</table>\n",
       "</div>"
      ],
      "text/plain": [
       "dataset          cz        en  cz_perplexity  en_perplexity\n",
       "mess_prob                                                  \n",
       "0.0        4.747801  5.287398      26.867694      39.053984\n",
       "1e-05      4.747718  5.287392      26.866157      39.053815\n",
       "0.0001     4.746771  5.287000      26.848525      39.043208\n",
       "0.001      4.738600  5.283650      26.696888      38.952674\n",
       "0.01       4.659225  5.250462      25.267749      38.066804\n",
       "0.05       4.336144  5.057127      20.198049      33.292550\n",
       "0.1        4.007994  4.731907      16.088900      26.573320"
      ]
     },
     "execution_count": 6,
     "metadata": {},
     "output_type": "execute_result"
    }
   ],
   "source": [
    "p = df[df['experiment']==\"char-modif\"].pivot_table(index=[\"mess_prob\"], \n",
    "                columns=['dataset'], \n",
    "                aggfunc=np.sum,\n",
    "                values='avg_1')\n",
    "p['cz_perplexity'] = p[\"cz\"].apply(lambda x: np.power(2, x))\n",
    "p['en_perplexity'] = p[\"en\"].apply(lambda x:  np.power(2, x))\n",
    "p"
   ]
  },
  {
   "cell_type": "code",
   "execution_count": 5,
   "metadata": {},
   "outputs": [
    {
     "data": {
      "image/png": "[encoded data removed]",
      "text/plain": [
       "<Figure size 648x360 with 1 Axes>"
      ]
     },
     "metadata": {
      "needs_background": "light"
     },
     "output_type": "display_data"
    }
   ],
   "source": [
    "x = df[df['experiment']==\"char-modif\"][\"mess_prob\"].unique()\n",
    "\n",
    "# plot\n",
    "fig, ax = plt.subplots(1,1, figsize=(9,5))\n",
    "ax.set_title('Conditional Probability of Language', fontsize=20)\n",
    "ax.set_xlabel(\"Character modification prob (log)\", fontsize='15')\n",
    "ax.set_ylabel(\"$H(Y|X)$\", fontsize='15')\n",
    "\n",
    "l, = ax.plot(x, p[\"cz\"], 'o-g')\n",
    "l.set_label(\"Czech Language\")\n",
    "\n",
    "l, = ax.plot(x, p[\"en\"], 'o-b')\n",
    "l.set_label(\"English Language\")\n",
    "ax.legend(prop={'size': 15})\n",
    "\n",
    "ax.set_xscale('log')\n",
    "plt.show()"
   ]
  },
  {
   "cell_type": "markdown",
   "metadata": {},
   "source": [
    "## Word modification\n",
    "* Contrary to character modification, when we are substituting the words, we are not making the vocabulary larger. But we are changing the distribution of words. Each substitution leads to the fact that this word is in this position with uniform probability. \n",
    "\n",
    "\n",
    "* Let's see the results first"
   ]
  },
  {
   "cell_type": "code",
   "execution_count": 6,
   "metadata": {},
   "outputs": [
    {
     "data": {
      "text/html": [
       "<div>\n",
       "<style scoped>\n",
       "    .dataframe tbody tr th:only-of-type {\n",
       "        vertical-align: middle;\n",
       "    }\n",
       "\n",
       "    .dataframe tbody tr th {\n",
       "        vertical-align: top;\n",
       "    }\n",
       "\n",
       "    .dataframe thead th {\n",
       "        text-align: right;\n",
       "    }\n",
       "</style>\n",
       "<table border=\"1\" class=\"dataframe\">\n",
       "  <thead>\n",
       "    <tr style=\"text-align: right;\">\n",
       "      <th>dataset</th>\n",
       "      <th>cz</th>\n",
       "      <th>en</th>\n",
       "    </tr>\n",
       "    <tr>\n",
       "      <th>mess_prob</th>\n",
       "      <th></th>\n",
       "      <th></th>\n",
       "    </tr>\n",
       "  </thead>\n",
       "  <tbody>\n",
       "    <tr>\n",
       "      <th>0.0</th>\n",
       "      <td>4.747801</td>\n",
       "      <td>5.287398</td>\n",
       "    </tr>\n",
       "    <tr>\n",
       "      <th>1e-05</th>\n",
       "      <td>4.747787</td>\n",
       "      <td>5.287406</td>\n",
       "    </tr>\n",
       "    <tr>\n",
       "      <th>0.0001</th>\n",
       "      <td>4.747751</td>\n",
       "      <td>5.287613</td>\n",
       "    </tr>\n",
       "    <tr>\n",
       "      <th>0.001</th>\n",
       "      <td>4.746902</td>\n",
       "      <td>5.289483</td>\n",
       "    </tr>\n",
       "    <tr>\n",
       "      <th>0.01</th>\n",
       "      <td>4.738953</td>\n",
       "      <td>5.306460</td>\n",
       "    </tr>\n",
       "    <tr>\n",
       "      <th>0.05</th>\n",
       "      <td>4.698919</td>\n",
       "      <td>5.380170</td>\n",
       "    </tr>\n",
       "    <tr>\n",
       "      <th>0.1</th>\n",
       "      <td>4.637736</td>\n",
       "      <td>5.459387</td>\n",
       "    </tr>\n",
       "  </tbody>\n",
       "</table>\n",
       "</div>"
      ],
      "text/plain": [
       "dataset          cz        en\n",
       "mess_prob                    \n",
       "0.0        4.747801  5.287398\n",
       "1e-05      4.747787  5.287406\n",
       "0.0001     4.747751  5.287613\n",
       "0.001      4.746902  5.289483\n",
       "0.01       4.738953  5.306460\n",
       "0.05       4.698919  5.380170\n",
       "0.1        4.637736  5.459387"
      ]
     },
     "execution_count": 6,
     "metadata": {},
     "output_type": "execute_result"
    }
   ],
   "source": [
    "p = df[df['experiment']==\"word-modif\"].pivot_table(index=[\"mess_prob\"], \n",
    "                columns=['dataset'], \n",
    "                aggfunc=np.sum,\n",
    "                values='avg_1')\n",
    "p"
   ]
  },
  {
   "cell_type": "code",
   "execution_count": 7,
   "metadata": {},
   "outputs": [
    {
     "data": {
      "image/png": "[encoded data removed]",
      "text/plain": [
       "<Figure size 648x360 with 1 Axes>"
      ]
     },
     "metadata": {
      "needs_background": "light"
     },
     "output_type": "display_data"
    }
   ],
   "source": [
    "x = df[df['experiment']==\"word-modif\"][\"mess_prob\"].unique()\n",
    "\n",
    "# plot\n",
    "fig, ax = plt.subplots(1,1, figsize=(9,5))\n",
    "ax.set_title('Conditional Probability of Language', fontsize=20)\n",
    "ax.set_xlabel(\"Word modification prob (log)\", fontsize='15')\n",
    "ax.set_ylabel(\"$H(Y|X)$\", fontsize='15')\n",
    "\n",
    "l, = ax.plot(x, p[\"cz\"], 'o-g')\n",
    "l.set_label(\"Czech Language\")\n",
    "\n",
    "l, = ax.plot(x, p[\"en\"], 'o-b')\n",
    "l.set_label(\"English Language\")\n",
    "ax.legend(prop={'size': 15})\n",
    "\n",
    "ax.set_xscale('log')\n",
    "plt.show()"
   ]
  },
  {
   "cell_type": "markdown",
   "metadata": {},
   "source": [
    "* I think that $p(w_{i-1} w_{i})$ will decrease for the most common word combinations.. because there is a high probability of modification of one of those two words (and result will uniformly random word.\n",
    "\n",
    "* I though $p(w_i | w_{i-1})$ that will decrease, because now we will start having more and more random history for this word... and i=that it will tend to go to  $1/|V|$ ... so that the Entropy will be increasing ... and the distribution of the words will go towards the maximal entropy...\n",
    "\n",
    "\n",
    "* But we can see, that this is the case only for English. For the Czech, it quite surprisingly decreases the entropy. My explanation is that this is happening because of the very large Czech dictionary. Let us see the stats about the languages... In the table, we have the size of the dataset, vocabulary size, number of different characters... and quantiles with counts of most common words..."
   ]
  },
  {
   "cell_type": "code",
   "execution_count": 8,
   "metadata": {},
   "outputs": [
    {
     "data": {
      "text/html": [
       "<div>\n",
       "<style scoped>\n",
       "    .dataframe tbody tr th:only-of-type {\n",
       "        vertical-align: middle;\n",
       "    }\n",
       "\n",
       "    .dataframe tbody tr th {\n",
       "        vertical-align: top;\n",
       "    }\n",
       "\n",
       "    .dataframe thead th {\n",
       "        text-align: right;\n",
       "    }\n",
       "</style>\n",
       "<table border=\"1\" class=\"dataframe\">\n",
       "  <thead>\n",
       "    <tr style=\"text-align: right;\">\n",
       "      <th></th>\n",
       "      <th>dataset</th>\n",
       "      <th>T</th>\n",
       "      <th>V</th>\n",
       "      <th>C</th>\n",
       "      <th>max</th>\n",
       "      <th>q25</th>\n",
       "      <th>q50</th>\n",
       "      <th>q75</th>\n",
       "      <th>q95</th>\n",
       "    </tr>\n",
       "  </thead>\n",
       "  <tbody>\n",
       "    <tr>\n",
       "      <th>0</th>\n",
       "      <td>cz</td>\n",
       "      <td>222412</td>\n",
       "      <td>42826</td>\n",
       "      <td>117</td>\n",
       "      <td>13788</td>\n",
       "      <td>1</td>\n",
       "      <td>1</td>\n",
       "      <td>2</td>\n",
       "      <td>11</td>\n",
       "    </tr>\n",
       "    <tr>\n",
       "      <th>1</th>\n",
       "      <td>en</td>\n",
       "      <td>221098</td>\n",
       "      <td>9607</td>\n",
       "      <td>74</td>\n",
       "      <td>14721</td>\n",
       "      <td>1</td>\n",
       "      <td>2</td>\n",
       "      <td>7</td>\n",
       "      <td>56</td>\n",
       "    </tr>\n",
       "  </tbody>\n",
       "</table>\n",
       "</div>"
      ],
      "text/plain": [
       "  dataset       T      V    C    max  q25  q50  q75  q95\n",
       "0      cz  222412  42826  117  13788    1    1    2   11\n",
       "1      en  221098   9607   74  14721    1    2    7   56"
      ]
     },
     "execution_count": 8,
     "metadata": {},
     "output_type": "execute_result"
    }
   ],
   "source": [
    "df = pd.read_csv(\"results/lang-stats.csv\")\n",
    "df"
   ]
  },
  {
   "cell_type": "markdown",
   "metadata": {},
   "source": [
    "* We can see that Czech vocabulary has $42826$ different words. Also half of the words are only single time in the dataset and even $75\\%$ of words from the vocabulary is at most two times in the dataset.\n",
    "\n",
    "* So if we randomly change $10\\%$ of the words, we are changing about $22,241$ of the words. Most probably we will choose again and again some common words. \n",
    "\n",
    "\n",
    "* These words will be changed uniformly to some of $42,826$ different words. So there is a high chance that often we sample a very common word and substitute it with a word that was in the dataset only once or twice ... If this new changed 'rare' word $r$ is in the history e.g. $p(w_i | r_{i-1})$ then the probability will be very high  $1$ or $0.5$ .. thus this will lower the entropy.\n",
    "\n",
    "* This is not the case for English, where is still a higher chance that a new word was at least multiple times in the dataset."
   ]
  },
  {
   "cell_type": "markdown",
   "metadata": {},
   "source": [
    "# Per-word contribution to Conditional Entropy  $H(Y=y|X), y \\in \\mathcal{Y}$\n",
    "* I thought that it would also be interesting to see how individual words contribute to the conditional entropy.\n",
    "\n",
    "\n",
    "* In the following table, we will find maximum, minimum, average, and quantiles for $H(Y=y|X)$ for different modification probabilities.\n",
    "\n",
    "\n",
    "* First table and plot are for character modification. The second table and plot are for word modification.\n",
    "\n",
    "\n",
    "* For the character modification we can see, that all words reduce their contribution to the conditional entropy quite linearly. We can also see that some words contribute a lot (common words) but most words contribute a little.\n",
    "\n",
    "\n",
    "* For the word modification, we can see, that for English the skew of the distribution is changing and that the more we change words uniformly randomly to other words, the mean per-word contribution to the conditional entropy is getting closer to 0.5 quantile. For Czech, this is happening also, but too little."
   ]
  },
  {
   "cell_type": "code",
   "execution_count": 9,
   "metadata": {},
   "outputs": [],
   "source": [
    "def highlight_max(data, color='yellow'):\n",
    "    '''\n",
    "    highlight the maximum in a Series or DataFrame\n",
    "    '''\n",
    "    attr = 'background-color: {}'.format(color)\n",
    "    #remove % and cast to float\n",
    "    data = data.replace('%','', regex=True).astype(float)\n",
    "    if data.ndim == 1:  # Series from .apply(axis=0) or axis=1\n",
    "        is_max = data == data.max()\n",
    "        return [attr if v else '' for v in is_max]\n",
    "    else:  # from .apply(axis=None)\n",
    "        is_max = data == data.max().max()\n",
    "        return pd.DataFrame(np.where(is_max, attr, ''),\n",
    "                            index=data.index, columns=data.columns)"
   ]
  },
  {
   "cell_type": "code",
   "execution_count": 12,
   "metadata": {},
   "outputs": [],
   "source": [
    "df = pd.read_csv(\"results/res.csv\").sort_values([\"dataset\", \"experiment\", \"mess_prob\"], ascending = (True, True, True))\n",
    "df['Experiment'] = df['dataset'] + \": \" + df['experiment']\n",
    "df['mess_prob'] = df['mess_prob'].astype('category')"
   ]
  },
  {
   "cell_type": "code",
   "execution_count": 13,
   "metadata": {},
   "outputs": [
    {
     "data": {
      "text/html": [
       "<style  type=\"text/css\" >\n",
       "#T_627c11bc_1c59_11eb_b3b1_d5b35794b307row0_col0,#T_627c11bc_1c59_11eb_b3b1_d5b35794b307row0_col1,#T_627c11bc_1c59_11eb_b3b1_d5b35794b307row0_col2,#T_627c11bc_1c59_11eb_b3b1_d5b35794b307row0_col3,#T_627c11bc_1c59_11eb_b3b1_d5b35794b307row0_col4,#T_627c11bc_1c59_11eb_b3b1_d5b35794b307row0_col5,#T_627c11bc_1c59_11eb_b3b1_d5b35794b307row0_col6,#T_627c11bc_1c59_11eb_b3b1_d5b35794b307row0_col7{\n",
       "            background-color:  yellow;\n",
       "        }</style><table id=\"T_627c11bc_1c59_11eb_b3b1_d5b35794b307\" ><thead>    <tr>        <th class=\"blank level0\" ></th>        <th class=\"col_heading level0 col0\" colspan=2>MAX</th>        <th class=\"col_heading level0 col2\" colspan=2>MEAN</th>        <th class=\"col_heading level0 col4\" colspan=2>Q25</th>        <th class=\"col_heading level0 col6\" colspan=2>Q75</th>    </tr>    <tr>        <th class=\"index_name level1\" >dataset</th>        <th class=\"col_heading level1 col0\" >cz</th>        <th class=\"col_heading level1 col1\" >en</th>        <th class=\"col_heading level1 col2\" >cz</th>        <th class=\"col_heading level1 col3\" >en</th>        <th class=\"col_heading level1 col4\" >cz</th>        <th class=\"col_heading level1 col5\" >en</th>        <th class=\"col_heading level1 col6\" >cz</th>        <th class=\"col_heading level1 col7\" >en</th>    </tr>    <tr>        <th class=\"index_name level0\" >mess_prob</th>        <th class=\"blank\" ></th>        <th class=\"blank\" ></th>        <th class=\"blank\" ></th>        <th class=\"blank\" ></th>        <th class=\"blank\" ></th>        <th class=\"blank\" ></th>        <th class=\"blank\" ></th>        <th class=\"blank\" ></th>    </tr></thead><tbody>\n",
       "                <tr>\n",
       "                        <th id=\"T_627c11bc_1c59_11eb_b3b1_d5b35794b307level0_row0\" class=\"row_heading level0 row0\" >0.0</th>\n",
       "                        <td id=\"T_627c11bc_1c59_11eb_b3b1_d5b35794b307row0_col0\" class=\"data row0 col0\" >0.107800</td>\n",
       "                        <td id=\"T_627c11bc_1c59_11eb_b3b1_d5b35794b307row0_col1\" class=\"data row0 col1\" >0.146136</td>\n",
       "                        <td id=\"T_627c11bc_1c59_11eb_b3b1_d5b35794b307row0_col2\" class=\"data row0 col2\" >0.000111</td>\n",
       "                        <td id=\"T_627c11bc_1c59_11eb_b3b1_d5b35794b307row0_col3\" class=\"data row0 col3\" >0.000550</td>\n",
       "                        <td id=\"T_627c11bc_1c59_11eb_b3b1_d5b35794b307row0_col4\" class=\"data row0 col4\" >0.000017</td>\n",
       "                        <td id=\"T_627c11bc_1c59_11eb_b3b1_d5b35794b307row0_col5\" class=\"data row0 col5\" >0.000053</td>\n",
       "                        <td id=\"T_627c11bc_1c59_11eb_b3b1_d5b35794b307row0_col6\" class=\"data row0 col6\" >0.000066</td>\n",
       "                        <td id=\"T_627c11bc_1c59_11eb_b3b1_d5b35794b307row0_col7\" class=\"data row0 col7\" >0.000273</td>\n",
       "            </tr>\n",
       "            <tr>\n",
       "                        <th id=\"T_627c11bc_1c59_11eb_b3b1_d5b35794b307level0_row1\" class=\"row_heading level0 row1\" >1e-05</th>\n",
       "                        <td id=\"T_627c11bc_1c59_11eb_b3b1_d5b35794b307row1_col0\" class=\"data row1 col0\" >0.107795</td>\n",
       "                        <td id=\"T_627c11bc_1c59_11eb_b3b1_d5b35794b307row1_col1\" class=\"data row1 col1\" >0.146128</td>\n",
       "                        <td id=\"T_627c11bc_1c59_11eb_b3b1_d5b35794b307row1_col2\" class=\"data row1 col2\" >0.000111</td>\n",
       "                        <td id=\"T_627c11bc_1c59_11eb_b3b1_d5b35794b307row1_col3\" class=\"data row1 col3\" >0.000545</td>\n",
       "                        <td id=\"T_627c11bc_1c59_11eb_b3b1_d5b35794b307row1_col4\" class=\"data row1 col4\" >0.000016</td>\n",
       "                        <td id=\"T_627c11bc_1c59_11eb_b3b1_d5b35794b307row1_col5\" class=\"data row1 col5\" >0.000053</td>\n",
       "                        <td id=\"T_627c11bc_1c59_11eb_b3b1_d5b35794b307row1_col6\" class=\"data row1 col6\" >0.000066</td>\n",
       "                        <td id=\"T_627c11bc_1c59_11eb_b3b1_d5b35794b307row1_col7\" class=\"data row1 col7\" >0.000269</td>\n",
       "            </tr>\n",
       "            <tr>\n",
       "                        <th id=\"T_627c11bc_1c59_11eb_b3b1_d5b35794b307level0_row2\" class=\"row_heading level0 row2\" >0.0001</th>\n",
       "                        <td id=\"T_627c11bc_1c59_11eb_b3b1_d5b35794b307row2_col0\" class=\"data row2 col0\" >0.107743</td>\n",
       "                        <td id=\"T_627c11bc_1c59_11eb_b3b1_d5b35794b307row2_col1\" class=\"data row2 col1\" >0.146043</td>\n",
       "                        <td id=\"T_627c11bc_1c59_11eb_b3b1_d5b35794b307row2_col2\" class=\"data row2 col2\" >0.000108</td>\n",
       "                        <td id=\"T_627c11bc_1c59_11eb_b3b1_d5b35794b307row2_col3\" class=\"data row2 col3\" >0.000502</td>\n",
       "                        <td id=\"T_627c11bc_1c59_11eb_b3b1_d5b35794b307row2_col4\" class=\"data row2 col4\" >0.000015</td>\n",
       "                        <td id=\"T_627c11bc_1c59_11eb_b3b1_d5b35794b307row2_col5\" class=\"data row2 col5\" >0.000043</td>\n",
       "                        <td id=\"T_627c11bc_1c59_11eb_b3b1_d5b35794b307row2_col6\" class=\"data row2 col6\" >0.000064</td>\n",
       "                        <td id=\"T_627c11bc_1c59_11eb_b3b1_d5b35794b307row2_col7\" class=\"data row2 col7\" >0.000238</td>\n",
       "            </tr>\n",
       "            <tr>\n",
       "                        <th id=\"T_627c11bc_1c59_11eb_b3b1_d5b35794b307level0_row3\" class=\"row_heading level0 row3\" >0.001</th>\n",
       "                        <td id=\"T_627c11bc_1c59_11eb_b3b1_d5b35794b307row3_col0\" class=\"data row3 col0\" >0.107166</td>\n",
       "                        <td id=\"T_627c11bc_1c59_11eb_b3b1_d5b35794b307row3_col1\" class=\"data row3 col1\" >0.145149</td>\n",
       "                        <td id=\"T_627c11bc_1c59_11eb_b3b1_d5b35794b307row3_col2\" class=\"data row3 col2\" >0.000091</td>\n",
       "                        <td id=\"T_627c11bc_1c59_11eb_b3b1_d5b35794b307row3_col3\" class=\"data row3 col3\" >0.000289</td>\n",
       "                        <td id=\"T_627c11bc_1c59_11eb_b3b1_d5b35794b307row3_col4\" class=\"data row3 col4\" >0.000005</td>\n",
       "                        <td id=\"T_627c11bc_1c59_11eb_b3b1_d5b35794b307row3_col5\" class=\"data row3 col5\" >0.000005</td>\n",
       "                        <td id=\"T_627c11bc_1c59_11eb_b3b1_d5b35794b307row3_col6\" class=\"data row3 col6\" >0.000061</td>\n",
       "                        <td id=\"T_627c11bc_1c59_11eb_b3b1_d5b35794b307row3_col7\" class=\"data row3 col7\" >0.000100</td>\n",
       "            </tr>\n",
       "            <tr>\n",
       "                        <th id=\"T_627c11bc_1c59_11eb_b3b1_d5b35794b307level0_row4\" class=\"row_heading level0 row4\" >0.01</th>\n",
       "                        <td id=\"T_627c11bc_1c59_11eb_b3b1_d5b35794b307row4_col0\" class=\"data row4 col0\" >0.101447</td>\n",
       "                        <td id=\"T_627c11bc_1c59_11eb_b3b1_d5b35794b307row4_col1\" class=\"data row4 col1\" >0.138244</td>\n",
       "                        <td id=\"T_627c11bc_1c59_11eb_b3b1_d5b35794b307row4_col2\" class=\"data row4 col2\" >0.000035</td>\n",
       "                        <td id=\"T_627c11bc_1c59_11eb_b3b1_d5b35794b307row4_col3\" class=\"data row4 col3\" >0.000067</td>\n",
       "                        <td id=\"T_627c11bc_1c59_11eb_b3b1_d5b35794b307row4_col4\" class=\"data row4 col4\" >0.000001</td>\n",
       "                        <td id=\"T_627c11bc_1c59_11eb_b3b1_d5b35794b307row4_col5\" class=\"data row4 col5\" >0.000003</td>\n",
       "                        <td id=\"T_627c11bc_1c59_11eb_b3b1_d5b35794b307row4_col6\" class=\"data row4 col6\" >0.000012</td>\n",
       "                        <td id=\"T_627c11bc_1c59_11eb_b3b1_d5b35794b307row4_col7\" class=\"data row4 col7\" >0.000006</td>\n",
       "            </tr>\n",
       "            <tr>\n",
       "                        <th id=\"T_627c11bc_1c59_11eb_b3b1_d5b35794b307level0_row5\" class=\"row_heading level0 row5\" >0.05</th>\n",
       "                        <td id=\"T_627c11bc_1c59_11eb_b3b1_d5b35794b307row5_col0\" class=\"data row5 col0\" >0.081286</td>\n",
       "                        <td id=\"T_627c11bc_1c59_11eb_b3b1_d5b35794b307row5_col1\" class=\"data row5 col1\" >0.120620</td>\n",
       "                        <td id=\"T_627c11bc_1c59_11eb_b3b1_d5b35794b307row5_col2\" class=\"data row5 col2\" >0.000010</td>\n",
       "                        <td id=\"T_627c11bc_1c59_11eb_b3b1_d5b35794b307row5_col3\" class=\"data row5 col3\" >0.000019</td>\n",
       "                        <td id=\"T_627c11bc_1c59_11eb_b3b1_d5b35794b307row5_col4\" class=\"data row5 col4\" >0.000000</td>\n",
       "                        <td id=\"T_627c11bc_1c59_11eb_b3b1_d5b35794b307row5_col5\" class=\"data row5 col5\" >0.000002</td>\n",
       "                        <td id=\"T_627c11bc_1c59_11eb_b3b1_d5b35794b307row5_col6\" class=\"data row5 col6\" >0.000005</td>\n",
       "                        <td id=\"T_627c11bc_1c59_11eb_b3b1_d5b35794b307row5_col7\" class=\"data row5 col7\" >0.000006</td>\n",
       "            </tr>\n",
       "            <tr>\n",
       "                        <th id=\"T_627c11bc_1c59_11eb_b3b1_d5b35794b307level0_row6\" class=\"row_heading level0 row6\" >0.1</th>\n",
       "                        <td id=\"T_627c11bc_1c59_11eb_b3b1_d5b35794b307row6_col0\" class=\"data row6 col0\" >0.065257</td>\n",
       "                        <td id=\"T_627c11bc_1c59_11eb_b3b1_d5b35794b307row6_col1\" class=\"data row6 col1\" >0.103071</td>\n",
       "                        <td id=\"T_627c11bc_1c59_11eb_b3b1_d5b35794b307row6_col2\" class=\"data row6 col2\" >0.000006</td>\n",
       "                        <td id=\"T_627c11bc_1c59_11eb_b3b1_d5b35794b307row6_col3\" class=\"data row6 col3\" >0.000011</td>\n",
       "                        <td id=\"T_627c11bc_1c59_11eb_b3b1_d5b35794b307row6_col4\" class=\"data row6 col4\" >-0.000000</td>\n",
       "                        <td id=\"T_627c11bc_1c59_11eb_b3b1_d5b35794b307row6_col5\" class=\"data row6 col5\" >0.000001</td>\n",
       "                        <td id=\"T_627c11bc_1c59_11eb_b3b1_d5b35794b307row6_col6\" class=\"data row6 col6\" >0.000005</td>\n",
       "                        <td id=\"T_627c11bc_1c59_11eb_b3b1_d5b35794b307row6_col7\" class=\"data row6 col7\" >0.000006</td>\n",
       "            </tr>\n",
       "    </tbody></table>"
      ],
      "text/plain": [
       "<pandas.io.formats.style.Styler at 0x7fcdcde8f280>"
      ]
     },
     "execution_count": 13,
     "metadata": {},
     "output_type": "execute_result"
    }
   ],
   "source": [
    "df[\"MEAN\"] = df[\"avg_1\"]\n",
    "df[\"Q25\"] = df[\"avg_1\"]\n",
    "df[\"Q75\"]  =df[\"avg_1\"]\n",
    "df[\"MAX\"] =df[\"avg_1\"]\n",
    "\n",
    "\n",
    "r = df[df['experiment']==\"char-modif\"].pivot_table(index=[\"mess_prob\"], \n",
    "                columns=['dataset'], \n",
    "                aggfunc={'MEAN' : np.mean, \n",
    "                         'Q25' : lambda x: np.percentile(x, 25),\n",
    "                         'Q75' : lambda x: np.percentile(x, 75),\n",
    "                         'MAX' : np.max},\n",
    "                #values='word_entropy'\n",
    "              )\n",
    "\n",
    "r.style.apply(highlight_max)"
   ]
  },
  {
   "cell_type": "code",
   "execution_count": 14,
   "metadata": {},
   "outputs": [
    {
     "data": {
      "image/png": "[encoded data removed]",
      "text/plain": [
       "<Figure size 1080x576 with 1 Axes>"
      ]
     },
     "metadata": {
      "needs_background": "light"
     },
     "output_type": "display_data"
    }
   ],
   "source": [
    "plt.figure(figsize=(15,8))\n",
    "sns.set_theme(style=\"whitegrid\")\n",
    "sns.set_context(\"paper\", rc={\"font.size\":15,\"axes.titlesize\":20,\"axes.labelsize\":20,\"axes.fontsize\":20})  \n",
    "sns.set(font_scale=1.3)  # crazy big\n",
    "ax = sns.boxplot(x=\"mess_prob\", y=\"avg_1\",  hue=\"Experiment\", data=df[df['experiment']==\"char-modif\"], showfliers = False, )\n",
    "_ = ax.set(xlabel=\"Character Modification probability\", ylabel = \"H(Y=y|X)\", title=\"Per word entropy\")"
   ]
  },
  {
   "cell_type": "code",
   "execution_count": 15,
   "metadata": {},
   "outputs": [
    {
     "data": {
      "text/html": [
       "<style  type=\"text/css\" >\n",
       "#T_6417d8c6_1c59_11eb_b3b1_d5b35794b307row0_col2,#T_6417d8c6_1c59_11eb_b3b1_d5b35794b307row1_col0,#T_6417d8c6_1c59_11eb_b3b1_d5b35794b307row5_col1,#T_6417d8c6_1c59_11eb_b3b1_d5b35794b307row6_col3,#T_6417d8c6_1c59_11eb_b3b1_d5b35794b307row6_col4,#T_6417d8c6_1c59_11eb_b3b1_d5b35794b307row6_col5,#T_6417d8c6_1c59_11eb_b3b1_d5b35794b307row6_col6,#T_6417d8c6_1c59_11eb_b3b1_d5b35794b307row6_col7{\n",
       "            background-color:  yellow;\n",
       "        }</style><table id=\"T_6417d8c6_1c59_11eb_b3b1_d5b35794b307\" ><thead>    <tr>        <th class=\"blank level0\" ></th>        <th class=\"col_heading level0 col0\" colspan=2>MAX</th>        <th class=\"col_heading level0 col2\" colspan=2>MEAN</th>        <th class=\"col_heading level0 col4\" colspan=2>Q25</th>        <th class=\"col_heading level0 col6\" colspan=2>Q75</th>    </tr>    <tr>        <th class=\"index_name level1\" >dataset</th>        <th class=\"col_heading level1 col0\" >cz</th>        <th class=\"col_heading level1 col1\" >en</th>        <th class=\"col_heading level1 col2\" >cz</th>        <th class=\"col_heading level1 col3\" >en</th>        <th class=\"col_heading level1 col4\" >cz</th>        <th class=\"col_heading level1 col5\" >en</th>        <th class=\"col_heading level1 col6\" >cz</th>        <th class=\"col_heading level1 col7\" >en</th>    </tr>    <tr>        <th class=\"index_name level0\" >mess_prob</th>        <th class=\"blank\" ></th>        <th class=\"blank\" ></th>        <th class=\"blank\" ></th>        <th class=\"blank\" ></th>        <th class=\"blank\" ></th>        <th class=\"blank\" ></th>        <th class=\"blank\" ></th>        <th class=\"blank\" ></th>    </tr></thead><tbody>\n",
       "                <tr>\n",
       "                        <th id=\"T_6417d8c6_1c59_11eb_b3b1_d5b35794b307level0_row0\" class=\"row_heading level0 row0\" >0.0</th>\n",
       "                        <td id=\"T_6417d8c6_1c59_11eb_b3b1_d5b35794b307row0_col0\" class=\"data row0 col0\" >0.107800</td>\n",
       "                        <td id=\"T_6417d8c6_1c59_11eb_b3b1_d5b35794b307row0_col1\" class=\"data row0 col1\" >0.146136</td>\n",
       "                        <td id=\"T_6417d8c6_1c59_11eb_b3b1_d5b35794b307row0_col2\" class=\"data row0 col2\" >0.000111</td>\n",
       "                        <td id=\"T_6417d8c6_1c59_11eb_b3b1_d5b35794b307row0_col3\" class=\"data row0 col3\" >0.000550</td>\n",
       "                        <td id=\"T_6417d8c6_1c59_11eb_b3b1_d5b35794b307row0_col4\" class=\"data row0 col4\" >0.000017</td>\n",
       "                        <td id=\"T_6417d8c6_1c59_11eb_b3b1_d5b35794b307row0_col5\" class=\"data row0 col5\" >0.000053</td>\n",
       "                        <td id=\"T_6417d8c6_1c59_11eb_b3b1_d5b35794b307row0_col6\" class=\"data row0 col6\" >0.000066</td>\n",
       "                        <td id=\"T_6417d8c6_1c59_11eb_b3b1_d5b35794b307row0_col7\" class=\"data row0 col7\" >0.000273</td>\n",
       "            </tr>\n",
       "            <tr>\n",
       "                        <th id=\"T_6417d8c6_1c59_11eb_b3b1_d5b35794b307level0_row1\" class=\"row_heading level0 row1\" >1e-05</th>\n",
       "                        <td id=\"T_6417d8c6_1c59_11eb_b3b1_d5b35794b307row1_col0\" class=\"data row1 col0\" >0.107800</td>\n",
       "                        <td id=\"T_6417d8c6_1c59_11eb_b3b1_d5b35794b307row1_col1\" class=\"data row1 col1\" >0.146136</td>\n",
       "                        <td id=\"T_6417d8c6_1c59_11eb_b3b1_d5b35794b307row1_col2\" class=\"data row1 col2\" >0.000111</td>\n",
       "                        <td id=\"T_6417d8c6_1c59_11eb_b3b1_d5b35794b307row1_col3\" class=\"data row1 col3\" >0.000550</td>\n",
       "                        <td id=\"T_6417d8c6_1c59_11eb_b3b1_d5b35794b307row1_col4\" class=\"data row1 col4\" >0.000017</td>\n",
       "                        <td id=\"T_6417d8c6_1c59_11eb_b3b1_d5b35794b307row1_col5\" class=\"data row1 col5\" >0.000053</td>\n",
       "                        <td id=\"T_6417d8c6_1c59_11eb_b3b1_d5b35794b307row1_col6\" class=\"data row1 col6\" >0.000066</td>\n",
       "                        <td id=\"T_6417d8c6_1c59_11eb_b3b1_d5b35794b307row1_col7\" class=\"data row1 col7\" >0.000273</td>\n",
       "            </tr>\n",
       "            <tr>\n",
       "                        <th id=\"T_6417d8c6_1c59_11eb_b3b1_d5b35794b307level0_row2\" class=\"row_heading level0 row2\" >0.0001</th>\n",
       "                        <td id=\"T_6417d8c6_1c59_11eb_b3b1_d5b35794b307row2_col0\" class=\"data row2 col0\" >0.107798</td>\n",
       "                        <td id=\"T_6417d8c6_1c59_11eb_b3b1_d5b35794b307row2_col1\" class=\"data row2 col1\" >0.146141</td>\n",
       "                        <td id=\"T_6417d8c6_1c59_11eb_b3b1_d5b35794b307row2_col2\" class=\"data row2 col2\" >0.000111</td>\n",
       "                        <td id=\"T_6417d8c6_1c59_11eb_b3b1_d5b35794b307row2_col3\" class=\"data row2 col3\" >0.000550</td>\n",
       "                        <td id=\"T_6417d8c6_1c59_11eb_b3b1_d5b35794b307row2_col4\" class=\"data row2 col4\" >0.000017</td>\n",
       "                        <td id=\"T_6417d8c6_1c59_11eb_b3b1_d5b35794b307row2_col5\" class=\"data row2 col5\" >0.000053</td>\n",
       "                        <td id=\"T_6417d8c6_1c59_11eb_b3b1_d5b35794b307row2_col6\" class=\"data row2 col6\" >0.000066</td>\n",
       "                        <td id=\"T_6417d8c6_1c59_11eb_b3b1_d5b35794b307row2_col7\" class=\"data row2 col7\" >0.000273</td>\n",
       "            </tr>\n",
       "            <tr>\n",
       "                        <th id=\"T_6417d8c6_1c59_11eb_b3b1_d5b35794b307level0_row3\" class=\"row_heading level0 row3\" >0.001</th>\n",
       "                        <td id=\"T_6417d8c6_1c59_11eb_b3b1_d5b35794b307row3_col0\" class=\"data row3 col0\" >0.107779</td>\n",
       "                        <td id=\"T_6417d8c6_1c59_11eb_b3b1_d5b35794b307row3_col1\" class=\"data row3 col1\" >0.146180</td>\n",
       "                        <td id=\"T_6417d8c6_1c59_11eb_b3b1_d5b35794b307row3_col2\" class=\"data row3 col2\" >0.000111</td>\n",
       "                        <td id=\"T_6417d8c6_1c59_11eb_b3b1_d5b35794b307row3_col3\" class=\"data row3 col3\" >0.000551</td>\n",
       "                        <td id=\"T_6417d8c6_1c59_11eb_b3b1_d5b35794b307row3_col4\" class=\"data row3 col4\" >0.000017</td>\n",
       "                        <td id=\"T_6417d8c6_1c59_11eb_b3b1_d5b35794b307row3_col5\" class=\"data row3 col5\" >0.000054</td>\n",
       "                        <td id=\"T_6417d8c6_1c59_11eb_b3b1_d5b35794b307row3_col6\" class=\"data row3 col6\" >0.000067</td>\n",
       "                        <td id=\"T_6417d8c6_1c59_11eb_b3b1_d5b35794b307row3_col7\" class=\"data row3 col7\" >0.000273</td>\n",
       "            </tr>\n",
       "            <tr>\n",
       "                        <th id=\"T_6417d8c6_1c59_11eb_b3b1_d5b35794b307level0_row4\" class=\"row_heading level0 row4\" >0.01</th>\n",
       "                        <td id=\"T_6417d8c6_1c59_11eb_b3b1_d5b35794b307row4_col0\" class=\"data row4 col0\" >0.107695</td>\n",
       "                        <td id=\"T_6417d8c6_1c59_11eb_b3b1_d5b35794b307row4_col1\" class=\"data row4 col1\" >0.146578</td>\n",
       "                        <td id=\"T_6417d8c6_1c59_11eb_b3b1_d5b35794b307row4_col2\" class=\"data row4 col2\" >0.000111</td>\n",
       "                        <td id=\"T_6417d8c6_1c59_11eb_b3b1_d5b35794b307row4_col3\" class=\"data row4 col3\" >0.000552</td>\n",
       "                        <td id=\"T_6417d8c6_1c59_11eb_b3b1_d5b35794b307row4_col4\" class=\"data row4 col4\" >0.000018</td>\n",
       "                        <td id=\"T_6417d8c6_1c59_11eb_b3b1_d5b35794b307row4_col5\" class=\"data row4 col5\" >0.000059</td>\n",
       "                        <td id=\"T_6417d8c6_1c59_11eb_b3b1_d5b35794b307row4_col6\" class=\"data row4 col6\" >0.000068</td>\n",
       "                        <td id=\"T_6417d8c6_1c59_11eb_b3b1_d5b35794b307row4_col7\" class=\"data row4 col7\" >0.000278</td>\n",
       "            </tr>\n",
       "            <tr>\n",
       "                        <th id=\"T_6417d8c6_1c59_11eb_b3b1_d5b35794b307level0_row5\" class=\"row_heading level0 row5\" >0.05</th>\n",
       "                        <td id=\"T_6417d8c6_1c59_11eb_b3b1_d5b35794b307row5_col0\" class=\"data row5 col0\" >0.106768</td>\n",
       "                        <td id=\"T_6417d8c6_1c59_11eb_b3b1_d5b35794b307row5_col1\" class=\"data row5 col1\" >0.147780</td>\n",
       "                        <td id=\"T_6417d8c6_1c59_11eb_b3b1_d5b35794b307row5_col2\" class=\"data row5 col2\" >0.000110</td>\n",
       "                        <td id=\"T_6417d8c6_1c59_11eb_b3b1_d5b35794b307row5_col3\" class=\"data row5 col3\" >0.000560</td>\n",
       "                        <td id=\"T_6417d8c6_1c59_11eb_b3b1_d5b35794b307row5_col4\" class=\"data row5 col4\" >0.000022</td>\n",
       "                        <td id=\"T_6417d8c6_1c59_11eb_b3b1_d5b35794b307row5_col5\" class=\"data row5 col5\" >0.000088</td>\n",
       "                        <td id=\"T_6417d8c6_1c59_11eb_b3b1_d5b35794b307row5_col6\" class=\"data row5 col6\" >0.000072</td>\n",
       "                        <td id=\"T_6417d8c6_1c59_11eb_b3b1_d5b35794b307row5_col7\" class=\"data row5 col7\" >0.000295</td>\n",
       "            </tr>\n",
       "            <tr>\n",
       "                        <th id=\"T_6417d8c6_1c59_11eb_b3b1_d5b35794b307level0_row6\" class=\"row_heading level0 row6\" >0.1</th>\n",
       "                        <td id=\"T_6417d8c6_1c59_11eb_b3b1_d5b35794b307row6_col0\" class=\"data row6 col0\" >0.105294</td>\n",
       "                        <td id=\"T_6417d8c6_1c59_11eb_b3b1_d5b35794b307row6_col1\" class=\"data row6 col1\" >0.147689</td>\n",
       "                        <td id=\"T_6417d8c6_1c59_11eb_b3b1_d5b35794b307row6_col2\" class=\"data row6 col2\" >0.000108</td>\n",
       "                        <td id=\"T_6417d8c6_1c59_11eb_b3b1_d5b35794b307row6_col3\" class=\"data row6 col3\" >0.000568</td>\n",
       "                        <td id=\"T_6417d8c6_1c59_11eb_b3b1_d5b35794b307row6_col4\" class=\"data row6 col4\" >0.000028</td>\n",
       "                        <td id=\"T_6417d8c6_1c59_11eb_b3b1_d5b35794b307row6_col5\" class=\"data row6 col5\" >0.000123</td>\n",
       "                        <td id=\"T_6417d8c6_1c59_11eb_b3b1_d5b35794b307row6_col6\" class=\"data row6 col6\" >0.000075</td>\n",
       "                        <td id=\"T_6417d8c6_1c59_11eb_b3b1_d5b35794b307row6_col7\" class=\"data row6 col7\" >0.000315</td>\n",
       "            </tr>\n",
       "    </tbody></table>"
      ],
      "text/plain": [
       "<pandas.io.formats.style.Styler at 0x7fcdcde5b940>"
      ]
     },
     "execution_count": 15,
     "metadata": {},
     "output_type": "execute_result"
    }
   ],
   "source": [
    "r = df[df['experiment']==\"word-modif\"].pivot_table(index=[\"mess_prob\"], \n",
    "                columns=['dataset'], \n",
    "                aggfunc={'MEAN' : np.mean, \n",
    "                         'Q25' : lambda x: np.percentile(x, 25),\n",
    "                         'Q75' : lambda x: np.percentile(x, 75),\n",
    "                         'MAX' : np.max},\n",
    "                #values='word_entropy'\n",
    "              )\n",
    "\n",
    "r.style.apply(highlight_max)"
   ]
  },
  {
   "cell_type": "code",
   "execution_count": 16,
   "metadata": {},
   "outputs": [
    {
     "data": {
      "image/png": "[encoded data removed]",
      "text/plain": [
       "<Figure size 1080x576 with 1 Axes>"
      ]
     },
     "metadata": {},
     "output_type": "display_data"
    }
   ],
   "source": [
    "plt.figure(figsize=(15,8))\n",
    "sns.set_theme(style=\"whitegrid\")\n",
    "sns.set_context(\"paper\", rc={\"font.size\":15,\"axes.titlesize\":20,\"axes.labelsize\":20,\"axes.fontsize\":20})  \n",
    "sns.set(font_scale=1.3)  # crazy big\n",
    "ax = sns.boxplot(x=\"mess_prob\", y=\"avg_1\",  hue=\"Experiment\", data=df[df['experiment']==\"word-modif\"], showfliers = False, )\n",
    "_ = ax.set(xlabel=\"Word Modification probability\", ylabel = \"H(Y=y|X)\", title=\"Per word entropy\")"
   ]
  },
  {
   "cell_type": "markdown",
   "metadata": {},
   "source": [
    "We can also show those words, which contribute to conditional entropy the highest. Result is not suprsing ..."
   ]
  },
  {
   "cell_type": "code",
   "execution_count": 17,
   "metadata": {},
   "outputs": [
    {
     "name": "stdout",
     "output_type": "stream",
     "text": [
      "English\n"
     ]
    },
    {
     "data": {
      "text/html": [
       "<div>\n",
       "<style scoped>\n",
       "    .dataframe tbody tr th:only-of-type {\n",
       "        vertical-align: middle;\n",
       "    }\n",
       "\n",
       "    .dataframe tbody tr th {\n",
       "        vertical-align: top;\n",
       "    }\n",
       "\n",
       "    .dataframe thead th {\n",
       "        text-align: right;\n",
       "    }\n",
       "</style>\n",
       "<table border=\"1\" class=\"dataframe\">\n",
       "  <thead>\n",
       "    <tr style=\"text-align: right;\">\n",
       "      <th></th>\n",
       "      <th>word</th>\n",
       "      <th>avg_1</th>\n",
       "    </tr>\n",
       "  </thead>\n",
       "  <tbody>\n",
       "    <tr>\n",
       "      <th>1713947</th>\n",
       "      <td>,</td>\n",
       "      <td>0.146136</td>\n",
       "    </tr>\n",
       "    <tr>\n",
       "      <th>1713956</th>\n",
       "      <td>the</td>\n",
       "      <td>0.143909</td>\n",
       "    </tr>\n",
       "    <tr>\n",
       "      <th>1713958</th>\n",
       "      <td>of</td>\n",
       "      <td>0.083818</td>\n",
       "    </tr>\n",
       "    <tr>\n",
       "      <th>1713955</th>\n",
       "      <td>in</td>\n",
       "      <td>0.080007</td>\n",
       "    </tr>\n",
       "    <tr>\n",
       "      <th>1713964</th>\n",
       "      <td>and</td>\n",
       "      <td>0.073680</td>\n",
       "    </tr>\n",
       "    <tr>\n",
       "      <th>1713941</th>\n",
       "      <td>.</td>\n",
       "      <td>0.068793</td>\n",
       "    </tr>\n",
       "    <tr>\n",
       "      <th>1714039</th>\n",
       "      <td>a</td>\n",
       "      <td>0.061798</td>\n",
       "    </tr>\n",
       "    <tr>\n",
       "      <th>1713968</th>\n",
       "      <td>to</td>\n",
       "      <td>0.050796</td>\n",
       "    </tr>\n",
       "  </tbody>\n",
       "</table>\n",
       "</div>"
      ],
      "text/plain": [
       "        word     avg_1\n",
       "1713947    ,  0.146136\n",
       "1713956  the  0.143909\n",
       "1713958   of  0.083818\n",
       "1713955   in  0.080007\n",
       "1713964  and  0.073680\n",
       "1713941    .  0.068793\n",
       "1714039    a  0.061798\n",
       "1713968   to  0.050796"
      ]
     },
     "execution_count": 17,
     "metadata": {},
     "output_type": "execute_result"
    }
   ],
   "source": [
    "char_mod = df[df[\"experiment\"] == \"char-modif\"]\n",
    "cz_char = char_mod[char_mod[\"dataset\"] == \"en\"]\n",
    "cz_char_00 = cz_char[cz_char[\"mess_prob\"] == 0.0]\n",
    "print(\"English\")\n",
    "cz_char_00.sort_values([\"avg_1\"], ascending = (False))[[\"word\", \"avg_1\"]].head(8)"
   ]
  },
  {
   "cell_type": "code",
   "execution_count": 18,
   "metadata": {},
   "outputs": [
    {
     "name": "stdout",
     "output_type": "stream",
     "text": [
      "Czech\n"
     ]
    },
    {
     "data": {
      "text/html": [
       "<div>\n",
       "<style scoped>\n",
       "    .dataframe tbody tr th:only-of-type {\n",
       "        vertical-align: middle;\n",
       "    }\n",
       "\n",
       "    .dataframe tbody tr th {\n",
       "        vertical-align: top;\n",
       "    }\n",
       "\n",
       "    .dataframe thead th {\n",
       "        text-align: right;\n",
       "    }\n",
       "</style>\n",
       "<table border=\"1\" class=\"dataframe\">\n",
       "  <thead>\n",
       "    <tr style=\"text-align: right;\">\n",
       "      <th></th>\n",
       "      <th>word</th>\n",
       "      <th>avg_1</th>\n",
       "    </tr>\n",
       "  </thead>\n",
       "  <tbody>\n",
       "    <tr>\n",
       "      <th>15</th>\n",
       "      <td>,</td>\n",
       "      <td>0.107800</td>\n",
       "    </tr>\n",
       "    <tr>\n",
       "      <th>1</th>\n",
       "      <td>.</td>\n",
       "      <td>0.101425</td>\n",
       "    </tr>\n",
       "    <tr>\n",
       "      <th>120</th>\n",
       "      <td>v</td>\n",
       "      <td>0.056312</td>\n",
       "    </tr>\n",
       "    <tr>\n",
       "      <th>53</th>\n",
       "      <td>a</td>\n",
       "      <td>0.047288</td>\n",
       "    </tr>\n",
       "    <tr>\n",
       "      <th>142</th>\n",
       "      <td>\"</td>\n",
       "      <td>0.040737</td>\n",
       "    </tr>\n",
       "    <tr>\n",
       "      <th>46</th>\n",
       "      <td>se</td>\n",
       "      <td>0.040549</td>\n",
       "    </tr>\n",
       "    <tr>\n",
       "      <th>80</th>\n",
       "      <td>na</td>\n",
       "      <td>0.035754</td>\n",
       "    </tr>\n",
       "    <tr>\n",
       "      <th>18</th>\n",
       "      <td>-</td>\n",
       "      <td>0.025175</td>\n",
       "    </tr>\n",
       "  </tbody>\n",
       "</table>\n",
       "</div>"
      ],
      "text/plain": [
       "    word     avg_1\n",
       "15     ,  0.107800\n",
       "1      .  0.101425\n",
       "120    v  0.056312\n",
       "53     a  0.047288\n",
       "142    \"  0.040737\n",
       "46    se  0.040549\n",
       "80    na  0.035754\n",
       "18     -  0.025175"
      ]
     },
     "execution_count": 18,
     "metadata": {},
     "output_type": "execute_result"
    }
   ],
   "source": [
    "char_mod = df[df[\"experiment\"] == \"char-modif\"]\n",
    "cz_char = char_mod[char_mod[\"dataset\"] == \"cz\"]\n",
    "cz_char_00 = cz_char[cz_char[\"mess_prob\"] == 0.0]\n",
    "print(\"Czech\")\n",
    "cz_char_00.sort_values([\"avg_1\"], ascending = (False))[[\"word\", \"avg_1\"]].head(8)"
   ]
  },
  {
   "cell_type": "markdown",
   "metadata": {},
   "source": [
    "# Paper and Pen excersise\n",
    "- Assume languages,$ L_1$  and $L_2$  which do not share any vocabulary items\n",
    "    - $H(J|I) = E$   for $T_1$ in laguage $L_1$  and also for $T_2$  in $L_2$\n",
    "    - now we create text $T_1 T_2$.\n",
    "    - What will be the $H(J|I)$ ?"
   ]
  },
  {
   "cell_type": "markdown",
   "metadata": {},
   "source": [
    "* **Lets split it by all possible cases...**\n",
    "* $H(J|I)$ where $J,I\\in T_1$  will be $E$ (by definition)"
   ]
  },
  {
   "cell_type": "markdown",
   "metadata": {},
   "source": [
    "* $H(J|I)$ where $J,I\\in T_2$ will  be $E$ also (by definition)\n",
    "  * NOTE: There is single change for first word in  $T_2$  \n",
    "  * It was $P(S,t_1) \\log_2 P(t_1|S)$ where S is starting symbol\n",
    "  * but $P(t_1|S)$ was equal to 1 ... so $\\log(P(t_1|S)=0$"
   ]
  },
  {
   "cell_type": "markdown",
   "metadata": {},
   "source": [
    "* $H(J|I)$ where $I\\in T_2$, $J\\in T_1$  is $0$ because $P(i,j)=0$  for all such words"
   ]
  },
  {
   "cell_type": "markdown",
   "metadata": {},
   "source": [
    "* $H(J|I)$ where $I\\in T_1$, $J\\in T_2$ will be 0 except...\n",
    "  * $P(t^1_{n}t^2_{1}) P(t^2_{1}|t^1_{n})$  where $t_n^1$ is last word in text $ T_1 $  and $t^2_1$  if first word from text $T_2$.\n",
    "  * In this case we get $P(i,j)=1$ and $P(j|i)\\geq 0$"
   ]
  },
  {
   "cell_type": "markdown",
   "metadata": {},
   "source": [
    "* So we can conclude that conditional entropy of $T_1T_2$  will be $2E + P(t^2_{1}|t^1_{n})$."
   ]
  },
  {
   "cell_type": "markdown",
   "metadata": {},
   "source": []
  },
  {
   "cell_type": "markdown",
   "metadata": {},
   "source": []
  },
  {
   "cell_type": "code",
   "execution_count": null,
   "metadata": {},
   "outputs": [],
   "source": []
  }
 ],
 "metadata": {
  "kernelspec": {
   "display_name": "Python 3",
   "language": "python",
   "name": "python3"
  },
  "language_info": {
   "codemirror_mode": {
    "name": "ipython",
    "version": 3
   },
   "file_extension": ".py",
   "mimetype": "text/x-python",
   "name": "python",
   "nbconvert_exporter": "python",
   "pygments_lexer": "ipython3",
   "version": "3.8.5"
  }
 },
 "nbformat": 4,
 "nbformat_minor": 4
}
